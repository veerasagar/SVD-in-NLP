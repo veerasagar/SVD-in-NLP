{
 "cells": [
  {
   "cell_type": "markdown",
   "id": "35d1135f",
   "metadata": {},
   "source": [
    "# Singular Value Decomposition (SVD) in Python\n",
    "Singular Value Decomposition (SVD) is a fundamental matrix factorization technique used in linear algebra, data compression, and machine learning.\n",
    "\n",
    "SVD decomposes a matrix \\( A \\) into three matrices:\n",
    "\n",
    "\\[ A = U \\Sigma V^T \\]\n",
    "\n",
    "Where:\n",
    "- \\( U \\) is an orthogonal matrix (left singular vectors)\n",
    "- \\( \\Sigma \\) is a diagonal matrix (singular values)\n",
    "- \\( V^T \\) is the transpose of an orthogonal matrix (right singular vectors)\n"
   ]
  },
  {
   "cell_type": "markdown",
   "id": "b2d7383f",
   "metadata": {},
   "source": [
    "## Step 1: Import Libraries\n",
    "We use NumPy to perform SVD."
   ]
  },
  {
   "cell_type": "markdown",
   "id": "18da913a",
   "metadata": {},
   "source": [
    "## Step 2: Define SVD Function\n",
    "We define a function to compute SVD using `numpy.linalg.svd()` and construct the diagonal matrix \\( \\Sigma \\) from singular values."
   ]
  },
  {
   "cell_type": "markdown",
   "id": "9c0cdcae",
   "metadata": {},
   "source": [
    "## Step 3: Example Matrix\n",
    "We define a sample matrix and compute its SVD."
   ]
  },
  {
   "cell_type": "markdown",
   "id": "1b033f18",
   "metadata": {},
   "source": [
    "## Step 4: Reconstruct the Original Matrix\n",
    "We verify the decomposition by reconstructing the original matrix using \\( U \\Sigma V^T \\)."
   ]
  },
  {
   "cell_type": "code",
   "execution_count": 1,
   "id": "eb4322ef",
   "metadata": {},
   "outputs": [],
   "source": [
    "import numpy as np\n",
    "\n",
    "def compute_svd(A):\n",
    "    \"\"\"\n",
    "    Compute Singular Value Decomposition of matrix A.\n",
    "    :param A: Input matrix\n",
    "    :return: U, Sigma, V^T matrices\n",
    "    \"\"\"\n",
    "    U, S, Vt = np.linalg.svd(A)\n",
    "    Sigma = np.zeros((A.shape[0], A.shape[1]))\n",
    "    np.fill_diagonal(Sigma, S)\n",
    "    \n",
    "    return U, Sigma, Vt"
   ]
  },
  {
   "cell_type": "code",
   "execution_count": 2,
   "id": "3ef70eb4",
   "metadata": {},
   "outputs": [
    {
     "name": "stdout",
     "output_type": "stream",
     "text": [
      "Original Matrix:\n",
      "[[ 3  2  2]\n",
      " [ 2  3 -2]]\n",
      "\n",
      "U Matrix:\n",
      "[[ 0.70710678 -0.70710678]\n",
      " [ 0.70710678  0.70710678]]\n",
      "\n",
      "Sigma Matrix:\n",
      "[[5. 0. 0.]\n",
      " [0. 3. 0.]]\n",
      "\n",
      "V^T Matrix:\n",
      "[[ 7.07106781e-01  7.07106781e-01  3.67439059e-16]\n",
      " [-2.35702260e-01  2.35702260e-01 -9.42809042e-01]\n",
      " [-6.66666667e-01  6.66666667e-01  3.33333333e-01]]\n"
     ]
    }
   ],
   "source": [
    "# Example usage\n",
    "A = np.array([[3, 2, 2], [2, 3, -2]])\n",
    "U, Sigma, Vt = compute_svd(A)\n",
    "\n",
    "print(\"Original Matrix:\")\n",
    "print(A)\n",
    "print(\"\\nU Matrix:\")\n",
    "print(U)\n",
    "print(\"\\nSigma Matrix:\")\n",
    "print(Sigma)\n",
    "print(\"\\nV^T Matrix:\")\n",
    "print(Vt)"
   ]
  },
  {
   "cell_type": "code",
   "execution_count": 3,
   "id": "23bbff2f",
   "metadata": {},
   "outputs": [
    {
     "name": "stdout",
     "output_type": "stream",
     "text": [
      "\n",
      "Reconstructed A:\n",
      "[[ 3.  2.  2.]\n",
      " [ 2.  3. -2.]]\n"
     ]
    }
   ],
   "source": [
    "# Verification\n",
    "reconstructed_A = U @ Sigma @ Vt\n",
    "print(\"\\nReconstructed A:\")\n",
    "print(reconstructed_A)"
   ]
  }
 ],
 "metadata": {
  "kernelspec": {
   "display_name": "base",
   "language": "python",
   "name": "python3"
  },
  "language_info": {
   "codemirror_mode": {
    "name": "ipython",
    "version": 3
   },
   "file_extension": ".py",
   "mimetype": "text/x-python",
   "name": "python",
   "nbconvert_exporter": "python",
   "pygments_lexer": "ipython3",
   "version": "3.12.7"
  }
 },
 "nbformat": 4,
 "nbformat_minor": 5
}
